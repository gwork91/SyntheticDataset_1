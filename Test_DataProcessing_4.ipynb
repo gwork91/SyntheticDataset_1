{
 "cells": [
  {
   "cell_type": "code",
   "execution_count": 1,
   "metadata": {
    "collapsed": true
   },
   "outputs": [],
   "source": [
    "import numpy as np\n",
    "import pandas as pd\n",
    "import matplotlib.pyplot as plt\n",
    "%matplotlib inline"
   ]
  },
  {
   "cell_type": "code",
   "execution_count": 2,
   "metadata": {
    "collapsed": false
   },
   "outputs": [],
   "source": [
    "test_ = pd.read_csv('test.tsv', sep='\\t')"
   ]
  },
  {
   "cell_type": "code",
   "execution_count": 3,
   "metadata": {
    "collapsed": false
   },
   "outputs": [
    {
     "data": {
      "text/html": [
       "<div>\n",
       "<table border=\"1\" class=\"dataframe\">\n",
       "  <thead>\n",
       "    <tr style=\"text-align: right;\">\n",
       "      <th></th>\n",
       "      <th>f_0</th>\n",
       "      <th>f_1</th>\n",
       "      <th>f_2</th>\n",
       "      <th>f_3</th>\n",
       "      <th>f_4</th>\n",
       "      <th>f_5</th>\n",
       "      <th>f_6</th>\n",
       "      <th>f_7</th>\n",
       "      <th>f_8</th>\n",
       "      <th>f_9</th>\n",
       "      <th>...</th>\n",
       "      <th>f_244</th>\n",
       "      <th>f_245</th>\n",
       "      <th>f_246</th>\n",
       "      <th>f_247</th>\n",
       "      <th>f_248</th>\n",
       "      <th>f_249</th>\n",
       "      <th>f_250</th>\n",
       "      <th>f_251</th>\n",
       "      <th>f_252</th>\n",
       "      <th>f_253</th>\n",
       "    </tr>\n",
       "  </thead>\n",
       "  <tbody>\n",
       "    <tr>\n",
       "      <th>0</th>\n",
       "      <td>1.122161</td>\n",
       "      <td>2.372084</td>\n",
       "      <td>-1.302713</td>\n",
       "      <td>-0.420838</td>\n",
       "      <td>-1.723640</td>\n",
       "      <td>0.205672</td>\n",
       "      <td>0.448599</td>\n",
       "      <td>1.305198</td>\n",
       "      <td>-0.343860</td>\n",
       "      <td>0.307042</td>\n",
       "      <td>...</td>\n",
       "      <td>0.987785</td>\n",
       "      <td>-0.472495</td>\n",
       "      <td>0.521588</td>\n",
       "      <td>-0.307917</td>\n",
       "      <td>1.061505</td>\n",
       "      <td>-0.839408</td>\n",
       "      <td>0.818555</td>\n",
       "      <td>0.341522</td>\n",
       "      <td>-0.162471</td>\n",
       "      <td>-1.122791</td>\n",
       "    </tr>\n",
       "    <tr>\n",
       "      <th>1</th>\n",
       "      <td>0.644808</td>\n",
       "      <td>-0.817831</td>\n",
       "      <td>-1.193122</td>\n",
       "      <td>0.285867</td>\n",
       "      <td>0.946388</td>\n",
       "      <td>2.001413</td>\n",
       "      <td>-1.490880</td>\n",
       "      <td>-0.162357</td>\n",
       "      <td>-1.668155</td>\n",
       "      <td>0.309635</td>\n",
       "      <td>...</td>\n",
       "      <td>-0.019666</td>\n",
       "      <td>0.763533</td>\n",
       "      <td>-0.622877</td>\n",
       "      <td>0.147480</td>\n",
       "      <td>0.391625</td>\n",
       "      <td>0.509444</td>\n",
       "      <td>1.608021</td>\n",
       "      <td>-0.320951</td>\n",
       "      <td>-1.723378</td>\n",
       "      <td>1.222700</td>\n",
       "    </tr>\n",
       "    <tr>\n",
       "      <th>2</th>\n",
       "      <td>-0.661031</td>\n",
       "      <td>0.372804</td>\n",
       "      <td>1.160255</td>\n",
       "      <td>0.447586</td>\n",
       "      <td>NaN</td>\n",
       "      <td>-0.377757</td>\n",
       "      <td>-0.644618</td>\n",
       "      <td>0.713097</td>\n",
       "      <td>1.900375</td>\n",
       "      <td>0.627264</td>\n",
       "      <td>...</td>\n",
       "      <td>0.156354</td>\n",
       "      <td>-0.267040</td>\n",
       "      <td>0.139786</td>\n",
       "      <td>-0.907847</td>\n",
       "      <td>0.093219</td>\n",
       "      <td>0.226585</td>\n",
       "      <td>-0.995615</td>\n",
       "      <td>-0.665005</td>\n",
       "      <td>0.444115</td>\n",
       "      <td>-1.452071</td>\n",
       "    </tr>\n",
       "    <tr>\n",
       "      <th>3</th>\n",
       "      <td>0.837063</td>\n",
       "      <td>1.269625</td>\n",
       "      <td>-1.420543</td>\n",
       "      <td>-0.482877</td>\n",
       "      <td>1.136028</td>\n",
       "      <td>0.051415</td>\n",
       "      <td>-0.096677</td>\n",
       "      <td>NaN</td>\n",
       "      <td>-1.524041</td>\n",
       "      <td>-0.252841</td>\n",
       "      <td>...</td>\n",
       "      <td>1.653141</td>\n",
       "      <td>1.950726</td>\n",
       "      <td>0.656887</td>\n",
       "      <td>-1.237622</td>\n",
       "      <td>-0.487024</td>\n",
       "      <td>-1.340936</td>\n",
       "      <td>1.221345</td>\n",
       "      <td>1.938266</td>\n",
       "      <td>-0.447294</td>\n",
       "      <td>0.410684</td>\n",
       "    </tr>\n",
       "    <tr>\n",
       "      <th>4</th>\n",
       "      <td>-0.001493</td>\n",
       "      <td>-0.050440</td>\n",
       "      <td>0.441970</td>\n",
       "      <td>0.229519</td>\n",
       "      <td>0.524835</td>\n",
       "      <td>0.326089</td>\n",
       "      <td>-0.589504</td>\n",
       "      <td>-0.287145</td>\n",
       "      <td>-0.555982</td>\n",
       "      <td>-0.088494</td>\n",
       "      <td>...</td>\n",
       "      <td>-0.290987</td>\n",
       "      <td>-0.195876</td>\n",
       "      <td>-0.737650</td>\n",
       "      <td>-0.377331</td>\n",
       "      <td>-0.660202</td>\n",
       "      <td>1.775678</td>\n",
       "      <td>-1.027535</td>\n",
       "      <td>-0.796754</td>\n",
       "      <td>0.184635</td>\n",
       "      <td>0.378488</td>\n",
       "    </tr>\n",
       "  </tbody>\n",
       "</table>\n",
       "<p>5 rows × 254 columns</p>\n",
       "</div>"
      ],
      "text/plain": [
       "        f_0       f_1       f_2       f_3       f_4       f_5       f_6  \\\n",
       "0  1.122161  2.372084 -1.302713 -0.420838 -1.723640  0.205672  0.448599   \n",
       "1  0.644808 -0.817831 -1.193122  0.285867  0.946388  2.001413 -1.490880   \n",
       "2 -0.661031  0.372804  1.160255  0.447586       NaN -0.377757 -0.644618   \n",
       "3  0.837063  1.269625 -1.420543 -0.482877  1.136028  0.051415 -0.096677   \n",
       "4 -0.001493 -0.050440  0.441970  0.229519  0.524835  0.326089 -0.589504   \n",
       "\n",
       "        f_7       f_8       f_9    ...        f_244     f_245     f_246  \\\n",
       "0  1.305198 -0.343860  0.307042    ...     0.987785 -0.472495  0.521588   \n",
       "1 -0.162357 -1.668155  0.309635    ...    -0.019666  0.763533 -0.622877   \n",
       "2  0.713097  1.900375  0.627264    ...     0.156354 -0.267040  0.139786   \n",
       "3       NaN -1.524041 -0.252841    ...     1.653141  1.950726  0.656887   \n",
       "4 -0.287145 -0.555982 -0.088494    ...    -0.290987 -0.195876 -0.737650   \n",
       "\n",
       "      f_247     f_248     f_249     f_250     f_251     f_252     f_253  \n",
       "0 -0.307917  1.061505 -0.839408  0.818555  0.341522 -0.162471 -1.122791  \n",
       "1  0.147480  0.391625  0.509444  1.608021 -0.320951 -1.723378  1.222700  \n",
       "2 -0.907847  0.093219  0.226585 -0.995615 -0.665005  0.444115 -1.452071  \n",
       "3 -1.237622 -0.487024 -1.340936  1.221345  1.938266 -0.447294  0.410684  \n",
       "4 -0.377331 -0.660202  1.775678 -1.027535 -0.796754  0.184635  0.378488  \n",
       "\n",
       "[5 rows x 254 columns]"
      ]
     },
     "execution_count": 3,
     "metadata": {},
     "output_type": "execute_result"
    }
   ],
   "source": [
    "test_.head()"
   ]
  },
  {
   "cell_type": "code",
   "execution_count": 4,
   "metadata": {
    "collapsed": false
   },
   "outputs": [],
   "source": [
    "col_names = list(test_.dtypes.index)\n",
    "cat_vars = ['f_61','f_121','f_215','f_237']   # train_x.iloc[:,[61,121,215,237]]\n",
    "cnt_vars = [x for x in col_names if x not in cat_vars]"
   ]
  },
  {
   "cell_type": "code",
   "execution_count": 5,
   "metadata": {
    "collapsed": false
   },
   "outputs": [],
   "source": [
    "# Imputing\n",
    "test_=test_.fillna(test_.mean(), inplace=True)\n",
    "test_[cat_vars] = test_[cat_vars].fillna('missing')"
   ]
  },
  {
   "cell_type": "code",
   "execution_count": 6,
   "metadata": {
    "collapsed": true
   },
   "outputs": [],
   "source": [
    "train_gp = test_[cat_vars]\n",
    "cat_list = pd.get_dummies(train_gp).columns   # len(cat_list) = 22"
   ]
  },
  {
   "cell_type": "code",
   "execution_count": 7,
   "metadata": {
    "collapsed": true
   },
   "outputs": [],
   "source": [
    "# Categorical variables from the DataFrame : Dummy operation\n",
    "test_ = pd.get_dummies(test_)"
   ]
  },
  {
   "cell_type": "code",
   "execution_count": 8,
   "metadata": {
    "collapsed": false
   },
   "outputs": [
    {
     "name": "stdout",
     "output_type": "stream",
     "text": [
      "<class 'pandas.core.frame.DataFrame'>\n",
      "RangeIndex: 1000 entries, 0 to 999\n",
      "Columns: 272 entries, f_0 to f_237_missing\n",
      "dtypes: float64(272)\n",
      "memory usage: 2.1 MB\n"
     ]
    }
   ],
   "source": [
    "test_.info()"
   ]
  },
  {
   "cell_type": "code",
   "execution_count": 9,
   "metadata": {
    "collapsed": false
   },
   "outputs": [
    {
     "data": {
      "text/plain": [
       "Series([], dtype: int64)"
      ]
     },
     "execution_count": 9,
     "metadata": {},
     "output_type": "execute_result"
    }
   ],
   "source": [
    "# Checking for any NULL values as of now\n",
    "null_vals = test_.isnull().sum()\n",
    "null_vals[null_vals>0]"
   ]
  },
  {
   "cell_type": "code",
   "execution_count": 10,
   "metadata": {
    "collapsed": false
   },
   "outputs": [
    {
     "name": "stdout",
     "output_type": "stream",
     "text": [
      "(1000, 272)\n"
     ]
    }
   ],
   "source": [
    "print test_.shape"
   ]
  },
  {
   "cell_type": "code",
   "execution_count": 11,
   "metadata": {
    "collapsed": true
   },
   "outputs": [],
   "source": [
    "test_.to_csv('test_.csv')"
   ]
  },
  {
   "cell_type": "code",
   "execution_count": null,
   "metadata": {
    "collapsed": false
   },
   "outputs": [],
   "source": []
  },
  {
   "cell_type": "code",
   "execution_count": 12,
   "metadata": {
    "collapsed": false
   },
   "outputs": [],
   "source": [
    "from sklearn.externals import joblib\n",
    "xgb1 = joblib.load('/home/pgoyal/Projects/app/xgb_500_logloss.pkl')"
   ]
  },
  {
   "cell_type": "code",
   "execution_count": 13,
   "metadata": {
    "collapsed": true
   },
   "outputs": [],
   "source": [
    "cnts_vars_final = ['f_158','f_19','f_154','f_48','f_202','f_113','f_69','f_27','f_74','f_240','f_6','f_108','f_118',\n",
    "                   'f_112','f_227','f_177','f_110','f_53','f_4','f_231','f_246','f_152','f_201','f_0','f_225','f_184',\n",
    "                   'f_56','f_16','f_90','f_37','f_200','f_203','f_129','f_236','f_46','f_182','f_100','f_176','f_251',\n",
    "                   'f_247','f_17','f_206','f_238','f_23','f_24','f_126','f_127','f_64','f_41','f_111','f_65','f_22',\n",
    "                   'f_128','f_136','f_107','f_92','f_122','f_78','f_2','f_10','f_59','f_229','f_125','f_33','f_40',\n",
    "                   'f_170','f_159','f_5','f_174','f_194','f_241','f_77','f_199','f_140','f_198','f_178','f_216',\n",
    "                   'f_188','f_120','f_131','f_144','f_67','f_50','f_221','f_60','f_42','f_180','f_76','f_226',\n",
    "                   'f_149','f_1','f_73','f_18','f_155','f_173','f_85','f_135','f_248','f_68','f_191','f_252',\n",
    "                   'f_98','f_204','f_45','f_58','f_28','f_183']"
   ]
  },
  {
   "cell_type": "code",
   "execution_count": 14,
   "metadata": {
    "collapsed": false
   },
   "outputs": [],
   "source": [
    "cat_vars_final = list(pd.read_csv('cat_vars.csv')['0'])\n",
    "var = cnts_vars_final\n",
    "var.extend(cat_vars_final)"
   ]
  },
  {
   "cell_type": "code",
   "execution_count": 15,
   "metadata": {
    "collapsed": false
   },
   "outputs": [],
   "source": [
    "final_predictions = pd.DataFrame(xgb1.predict(test_[var]))"
   ]
  },
  {
   "cell_type": "code",
   "execution_count": 16,
   "metadata": {
    "collapsed": false
   },
   "outputs": [],
   "source": [
    "final_predictions.to_csv('/home/pgoyal/Projects/app/final_predictions.csv')"
   ]
  },
  {
   "cell_type": "code",
   "execution_count": 17,
   "metadata": {
    "collapsed": false
   },
   "outputs": [
    {
     "data": {
      "text/html": [
       "<div>\n",
       "<table border=\"1\" class=\"dataframe\">\n",
       "  <thead>\n",
       "    <tr style=\"text-align: right;\">\n",
       "      <th></th>\n",
       "      <th>0</th>\n",
       "    </tr>\n",
       "  </thead>\n",
       "  <tbody>\n",
       "    <tr>\n",
       "      <th>0</th>\n",
       "      <td>0.270303</td>\n",
       "    </tr>\n",
       "    <tr>\n",
       "      <th>1</th>\n",
       "      <td>1.207760</td>\n",
       "    </tr>\n",
       "    <tr>\n",
       "      <th>2</th>\n",
       "      <td>2.246185</td>\n",
       "    </tr>\n",
       "    <tr>\n",
       "      <th>3</th>\n",
       "      <td>-0.254940</td>\n",
       "    </tr>\n",
       "    <tr>\n",
       "      <th>4</th>\n",
       "      <td>2.118337</td>\n",
       "    </tr>\n",
       "    <tr>\n",
       "      <th>5</th>\n",
       "      <td>1.217976</td>\n",
       "    </tr>\n",
       "    <tr>\n",
       "      <th>6</th>\n",
       "      <td>2.190634</td>\n",
       "    </tr>\n",
       "    <tr>\n",
       "      <th>7</th>\n",
       "      <td>1.157818</td>\n",
       "    </tr>\n",
       "    <tr>\n",
       "      <th>8</th>\n",
       "      <td>1.530466</td>\n",
       "    </tr>\n",
       "    <tr>\n",
       "      <th>9</th>\n",
       "      <td>1.186767</td>\n",
       "    </tr>\n",
       "    <tr>\n",
       "      <th>10</th>\n",
       "      <td>1.131425</td>\n",
       "    </tr>\n",
       "    <tr>\n",
       "      <th>11</th>\n",
       "      <td>0.107701</td>\n",
       "    </tr>\n",
       "    <tr>\n",
       "      <th>12</th>\n",
       "      <td>0.206123</td>\n",
       "    </tr>\n",
       "    <tr>\n",
       "      <th>13</th>\n",
       "      <td>1.261462</td>\n",
       "    </tr>\n",
       "    <tr>\n",
       "      <th>14</th>\n",
       "      <td>1.641309</td>\n",
       "    </tr>\n",
       "    <tr>\n",
       "      <th>15</th>\n",
       "      <td>2.156624</td>\n",
       "    </tr>\n",
       "    <tr>\n",
       "      <th>16</th>\n",
       "      <td>2.295280</td>\n",
       "    </tr>\n",
       "    <tr>\n",
       "      <th>17</th>\n",
       "      <td>0.717730</td>\n",
       "    </tr>\n",
       "    <tr>\n",
       "      <th>18</th>\n",
       "      <td>1.247911</td>\n",
       "    </tr>\n",
       "    <tr>\n",
       "      <th>19</th>\n",
       "      <td>0.264745</td>\n",
       "    </tr>\n",
       "    <tr>\n",
       "      <th>20</th>\n",
       "      <td>-0.669194</td>\n",
       "    </tr>\n",
       "    <tr>\n",
       "      <th>21</th>\n",
       "      <td>-0.745580</td>\n",
       "    </tr>\n",
       "    <tr>\n",
       "      <th>22</th>\n",
       "      <td>1.376791</td>\n",
       "    </tr>\n",
       "    <tr>\n",
       "      <th>23</th>\n",
       "      <td>2.052799</td>\n",
       "    </tr>\n",
       "    <tr>\n",
       "      <th>24</th>\n",
       "      <td>-0.311432</td>\n",
       "    </tr>\n",
       "    <tr>\n",
       "      <th>25</th>\n",
       "      <td>-0.248845</td>\n",
       "    </tr>\n",
       "    <tr>\n",
       "      <th>26</th>\n",
       "      <td>0.600540</td>\n",
       "    </tr>\n",
       "    <tr>\n",
       "      <th>27</th>\n",
       "      <td>0.270210</td>\n",
       "    </tr>\n",
       "    <tr>\n",
       "      <th>28</th>\n",
       "      <td>0.519363</td>\n",
       "    </tr>\n",
       "    <tr>\n",
       "      <th>29</th>\n",
       "      <td>1.224080</td>\n",
       "    </tr>\n",
       "    <tr>\n",
       "      <th>...</th>\n",
       "      <td>...</td>\n",
       "    </tr>\n",
       "    <tr>\n",
       "      <th>970</th>\n",
       "      <td>1.510936</td>\n",
       "    </tr>\n",
       "    <tr>\n",
       "      <th>971</th>\n",
       "      <td>0.147782</td>\n",
       "    </tr>\n",
       "    <tr>\n",
       "      <th>972</th>\n",
       "      <td>1.129353</td>\n",
       "    </tr>\n",
       "    <tr>\n",
       "      <th>973</th>\n",
       "      <td>2.126256</td>\n",
       "    </tr>\n",
       "    <tr>\n",
       "      <th>974</th>\n",
       "      <td>0.646059</td>\n",
       "    </tr>\n",
       "    <tr>\n",
       "      <th>975</th>\n",
       "      <td>1.814475</td>\n",
       "    </tr>\n",
       "    <tr>\n",
       "      <th>976</th>\n",
       "      <td>-0.623024</td>\n",
       "    </tr>\n",
       "    <tr>\n",
       "      <th>977</th>\n",
       "      <td>-0.521128</td>\n",
       "    </tr>\n",
       "    <tr>\n",
       "      <th>978</th>\n",
       "      <td>1.390368</td>\n",
       "    </tr>\n",
       "    <tr>\n",
       "      <th>979</th>\n",
       "      <td>1.114424</td>\n",
       "    </tr>\n",
       "    <tr>\n",
       "      <th>980</th>\n",
       "      <td>1.669852</td>\n",
       "    </tr>\n",
       "    <tr>\n",
       "      <th>981</th>\n",
       "      <td>0.263486</td>\n",
       "    </tr>\n",
       "    <tr>\n",
       "      <th>982</th>\n",
       "      <td>1.210235</td>\n",
       "    </tr>\n",
       "    <tr>\n",
       "      <th>983</th>\n",
       "      <td>1.736176</td>\n",
       "    </tr>\n",
       "    <tr>\n",
       "      <th>984</th>\n",
       "      <td>0.175722</td>\n",
       "    </tr>\n",
       "    <tr>\n",
       "      <th>985</th>\n",
       "      <td>1.475191</td>\n",
       "    </tr>\n",
       "    <tr>\n",
       "      <th>986</th>\n",
       "      <td>1.277899</td>\n",
       "    </tr>\n",
       "    <tr>\n",
       "      <th>987</th>\n",
       "      <td>1.806686</td>\n",
       "    </tr>\n",
       "    <tr>\n",
       "      <th>988</th>\n",
       "      <td>2.346044</td>\n",
       "    </tr>\n",
       "    <tr>\n",
       "      <th>989</th>\n",
       "      <td>1.812898</td>\n",
       "    </tr>\n",
       "    <tr>\n",
       "      <th>990</th>\n",
       "      <td>1.781480</td>\n",
       "    </tr>\n",
       "    <tr>\n",
       "      <th>991</th>\n",
       "      <td>1.822561</td>\n",
       "    </tr>\n",
       "    <tr>\n",
       "      <th>992</th>\n",
       "      <td>0.874124</td>\n",
       "    </tr>\n",
       "    <tr>\n",
       "      <th>993</th>\n",
       "      <td>1.844661</td>\n",
       "    </tr>\n",
       "    <tr>\n",
       "      <th>994</th>\n",
       "      <td>2.278445</td>\n",
       "    </tr>\n",
       "    <tr>\n",
       "      <th>995</th>\n",
       "      <td>1.641630</td>\n",
       "    </tr>\n",
       "    <tr>\n",
       "      <th>996</th>\n",
       "      <td>2.192804</td>\n",
       "    </tr>\n",
       "    <tr>\n",
       "      <th>997</th>\n",
       "      <td>-0.689198</td>\n",
       "    </tr>\n",
       "    <tr>\n",
       "      <th>998</th>\n",
       "      <td>1.036784</td>\n",
       "    </tr>\n",
       "    <tr>\n",
       "      <th>999</th>\n",
       "      <td>1.208544</td>\n",
       "    </tr>\n",
       "  </tbody>\n",
       "</table>\n",
       "<p>1000 rows × 1 columns</p>\n",
       "</div>"
      ],
      "text/plain": [
       "            0\n",
       "0    0.270303\n",
       "1    1.207760\n",
       "2    2.246185\n",
       "3   -0.254940\n",
       "4    2.118337\n",
       "5    1.217976\n",
       "6    2.190634\n",
       "7    1.157818\n",
       "8    1.530466\n",
       "9    1.186767\n",
       "10   1.131425\n",
       "11   0.107701\n",
       "12   0.206123\n",
       "13   1.261462\n",
       "14   1.641309\n",
       "15   2.156624\n",
       "16   2.295280\n",
       "17   0.717730\n",
       "18   1.247911\n",
       "19   0.264745\n",
       "20  -0.669194\n",
       "21  -0.745580\n",
       "22   1.376791\n",
       "23   2.052799\n",
       "24  -0.311432\n",
       "25  -0.248845\n",
       "26   0.600540\n",
       "27   0.270210\n",
       "28   0.519363\n",
       "29   1.224080\n",
       "..        ...\n",
       "970  1.510936\n",
       "971  0.147782\n",
       "972  1.129353\n",
       "973  2.126256\n",
       "974  0.646059\n",
       "975  1.814475\n",
       "976 -0.623024\n",
       "977 -0.521128\n",
       "978  1.390368\n",
       "979  1.114424\n",
       "980  1.669852\n",
       "981  0.263486\n",
       "982  1.210235\n",
       "983  1.736176\n",
       "984  0.175722\n",
       "985  1.475191\n",
       "986  1.277899\n",
       "987  1.806686\n",
       "988  2.346044\n",
       "989  1.812898\n",
       "990  1.781480\n",
       "991  1.822561\n",
       "992  0.874124\n",
       "993  1.844661\n",
       "994  2.278445\n",
       "995  1.641630\n",
       "996  2.192804\n",
       "997 -0.689198\n",
       "998  1.036784\n",
       "999  1.208544\n",
       "\n",
       "[1000 rows x 1 columns]"
      ]
     },
     "execution_count": 17,
     "metadata": {},
     "output_type": "execute_result"
    }
   ],
   "source": [
    "final_predictions"
   ]
  },
  {
   "cell_type": "code",
   "execution_count": null,
   "metadata": {
    "collapsed": false
   },
   "outputs": [],
   "source": []
  },
  {
   "cell_type": "code",
   "execution_count": null,
   "metadata": {
    "collapsed": true
   },
   "outputs": [],
   "source": []
  }
 ],
 "metadata": {
  "anaconda-cloud": {},
  "kernelspec": {
   "display_name": "research",
   "language": "python",
   "name": "python2"
  },
  "language_info": {
   "codemirror_mode": {
    "name": "ipython",
    "version": 2
   },
   "file_extension": ".py",
   "mimetype": "text/x-python",
   "name": "python",
   "nbconvert_exporter": "python",
   "pygments_lexer": "ipython2",
   "version": "2.7.12"
  }
 },
 "nbformat": 4,
 "nbformat_minor": 0
}
