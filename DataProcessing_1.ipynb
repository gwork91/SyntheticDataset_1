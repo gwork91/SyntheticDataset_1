{
 "cells": [
  {
   "cell_type": "code",
   "execution_count": 1,
   "metadata": {
    "collapsed": true
   },
   "outputs": [],
   "source": [
    "import numpy as np\n",
    "import pandas as pd\n",
    "import matplotlib.pyplot as plt\n",
    "%matplotlib inline"
   ]
  },
  {
   "cell_type": "code",
   "execution_count": 2,
   "metadata": {
    "collapsed": false
   },
   "outputs": [],
   "source": [
    "train_ = pd.read_csv('train.tsv',sep='\\t')\n",
    "#test_ = pd.read_csv('test.tsv', sep='\\t')"
   ]
  },
  {
   "cell_type": "code",
   "execution_count": 3,
   "metadata": {
    "collapsed": false
   },
   "outputs": [
    {
     "data": {
      "text/html": [
       "<div>\n",
       "<table border=\"1\" class=\"dataframe\">\n",
       "  <thead>\n",
       "    <tr style=\"text-align: right;\">\n",
       "      <th></th>\n",
       "      <th>target</th>\n",
       "      <th>f_0</th>\n",
       "      <th>f_1</th>\n",
       "      <th>f_2</th>\n",
       "      <th>f_3</th>\n",
       "      <th>f_4</th>\n",
       "      <th>f_5</th>\n",
       "      <th>f_6</th>\n",
       "      <th>f_7</th>\n",
       "      <th>f_8</th>\n",
       "      <th>...</th>\n",
       "      <th>f_244</th>\n",
       "      <th>f_245</th>\n",
       "      <th>f_246</th>\n",
       "      <th>f_247</th>\n",
       "      <th>f_248</th>\n",
       "      <th>f_249</th>\n",
       "      <th>f_250</th>\n",
       "      <th>f_251</th>\n",
       "      <th>f_252</th>\n",
       "      <th>f_253</th>\n",
       "    </tr>\n",
       "  </thead>\n",
       "  <tbody>\n",
       "    <tr>\n",
       "      <th>0</th>\n",
       "      <td>3.066056</td>\n",
       "      <td>-0.652557</td>\n",
       "      <td>0.255256</td>\n",
       "      <td>-0.615412</td>\n",
       "      <td>-1.833283</td>\n",
       "      <td>-0.735654</td>\n",
       "      <td>NaN</td>\n",
       "      <td>1.115108</td>\n",
       "      <td>-0.170707</td>\n",
       "      <td>-0.350879</td>\n",
       "      <td>...</td>\n",
       "      <td>-1.607174</td>\n",
       "      <td>-1.400451</td>\n",
       "      <td>-0.920319</td>\n",
       "      <td>-0.198487</td>\n",
       "      <td>-0.944919</td>\n",
       "      <td>-0.572555</td>\n",
       "      <td>0.170449</td>\n",
       "      <td>-0.417764</td>\n",
       "      <td>-1.244350</td>\n",
       "      <td>-0.502889</td>\n",
       "    </tr>\n",
       "    <tr>\n",
       "      <th>1</th>\n",
       "      <td>-1.910473</td>\n",
       "      <td>1.178667</td>\n",
       "      <td>-0.093398</td>\n",
       "      <td>-0.555568</td>\n",
       "      <td>0.811153</td>\n",
       "      <td>-0.467931</td>\n",
       "      <td>-0.005488</td>\n",
       "      <td>-0.116258</td>\n",
       "      <td>-1.242854</td>\n",
       "      <td>1.984955</td>\n",
       "      <td>...</td>\n",
       "      <td>1.281957</td>\n",
       "      <td>0.032356</td>\n",
       "      <td>-0.060830</td>\n",
       "      <td>NaN</td>\n",
       "      <td>-0.061294</td>\n",
       "      <td>-0.301641</td>\n",
       "      <td>1.280799</td>\n",
       "      <td>-0.849742</td>\n",
       "      <td>0.821387</td>\n",
       "      <td>-0.259742</td>\n",
       "    </tr>\n",
       "    <tr>\n",
       "      <th>2</th>\n",
       "      <td>7.830711</td>\n",
       "      <td>0.180984</td>\n",
       "      <td>-0.778108</td>\n",
       "      <td>-0.919190</td>\n",
       "      <td>0.112607</td>\n",
       "      <td>0.887144</td>\n",
       "      <td>-0.761681</td>\n",
       "      <td>1.872443</td>\n",
       "      <td>-1.708934</td>\n",
       "      <td>0.134782</td>\n",
       "      <td>...</td>\n",
       "      <td>-0.236893</td>\n",
       "      <td>-0.659965</td>\n",
       "      <td>1.072506</td>\n",
       "      <td>-0.192872</td>\n",
       "      <td>0.570371</td>\n",
       "      <td>-0.267201</td>\n",
       "      <td>1.434515</td>\n",
       "      <td>1.331823</td>\n",
       "      <td>-1.146947</td>\n",
       "      <td>2.579905</td>\n",
       "    </tr>\n",
       "    <tr>\n",
       "      <th>3</th>\n",
       "      <td>-2.180862</td>\n",
       "      <td>0.745228</td>\n",
       "      <td>-0.245268</td>\n",
       "      <td>-1.343348</td>\n",
       "      <td>1.163072</td>\n",
       "      <td>-0.168847</td>\n",
       "      <td>-0.150516</td>\n",
       "      <td>-1.099532</td>\n",
       "      <td>0.225346</td>\n",
       "      <td>1.223015</td>\n",
       "      <td>...</td>\n",
       "      <td>0.709195</td>\n",
       "      <td>-0.203496</td>\n",
       "      <td>-0.135737</td>\n",
       "      <td>-0.570835</td>\n",
       "      <td>1.682078</td>\n",
       "      <td>0.243042</td>\n",
       "      <td>-0.380941</td>\n",
       "      <td>0.612880</td>\n",
       "      <td>1.032715</td>\n",
       "      <td>0.400305</td>\n",
       "    </tr>\n",
       "    <tr>\n",
       "      <th>4</th>\n",
       "      <td>5.462784</td>\n",
       "      <td>1.217383</td>\n",
       "      <td>-1.323946</td>\n",
       "      <td>-0.958151</td>\n",
       "      <td>0.448290</td>\n",
       "      <td>-2.873187</td>\n",
       "      <td>-0.855653</td>\n",
       "      <td>0.602568</td>\n",
       "      <td>0.763372</td>\n",
       "      <td>0.019770</td>\n",
       "      <td>...</td>\n",
       "      <td>0.892303</td>\n",
       "      <td>-0.432659</td>\n",
       "      <td>-0.877101</td>\n",
       "      <td>0.289258</td>\n",
       "      <td>0.653759</td>\n",
       "      <td>1.230144</td>\n",
       "      <td>0.456956</td>\n",
       "      <td>-0.754051</td>\n",
       "      <td>-0.025100</td>\n",
       "      <td>-0.931225</td>\n",
       "    </tr>\n",
       "  </tbody>\n",
       "</table>\n",
       "<p>5 rows × 255 columns</p>\n",
       "</div>"
      ],
      "text/plain": [
       "     target       f_0       f_1       f_2       f_3       f_4       f_5  \\\n",
       "0  3.066056 -0.652557  0.255256 -0.615412 -1.833283 -0.735654       NaN   \n",
       "1 -1.910473  1.178667 -0.093398 -0.555568  0.811153 -0.467931 -0.005488   \n",
       "2  7.830711  0.180984 -0.778108 -0.919190  0.112607  0.887144 -0.761681   \n",
       "3 -2.180862  0.745228 -0.245268 -1.343348  1.163072 -0.168847 -0.150516   \n",
       "4  5.462784  1.217383 -1.323946 -0.958151  0.448290 -2.873187 -0.855653   \n",
       "\n",
       "        f_6       f_7       f_8    ...        f_244     f_245     f_246  \\\n",
       "0  1.115108 -0.170707 -0.350879    ...    -1.607174 -1.400451 -0.920319   \n",
       "1 -0.116258 -1.242854  1.984955    ...     1.281957  0.032356 -0.060830   \n",
       "2  1.872443 -1.708934  0.134782    ...    -0.236893 -0.659965  1.072506   \n",
       "3 -1.099532  0.225346  1.223015    ...     0.709195 -0.203496 -0.135737   \n",
       "4  0.602568  0.763372  0.019770    ...     0.892303 -0.432659 -0.877101   \n",
       "\n",
       "      f_247     f_248     f_249     f_250     f_251     f_252     f_253  \n",
       "0 -0.198487 -0.944919 -0.572555  0.170449 -0.417764 -1.244350 -0.502889  \n",
       "1       NaN -0.061294 -0.301641  1.280799 -0.849742  0.821387 -0.259742  \n",
       "2 -0.192872  0.570371 -0.267201  1.434515  1.331823 -1.146947  2.579905  \n",
       "3 -0.570835  1.682078  0.243042 -0.380941  0.612880  1.032715  0.400305  \n",
       "4  0.289258  0.653759  1.230144  0.456956 -0.754051 -0.025100 -0.931225  \n",
       "\n",
       "[5 rows x 255 columns]"
      ]
     },
     "execution_count": 3,
     "metadata": {},
     "output_type": "execute_result"
    }
   ],
   "source": [
    "train_.head()"
   ]
  },
  {
   "cell_type": "code",
   "execution_count": 4,
   "metadata": {
    "collapsed": true
   },
   "outputs": [],
   "source": [
    "train_x = train_.iloc[:,1:255]\n",
    "train_y = train_.iloc[:,0]"
   ]
  },
  {
   "cell_type": "code",
   "execution_count": 5,
   "metadata": {
    "collapsed": false
   },
   "outputs": [],
   "source": [
    "col_names = list(train_.dtypes.index)\n",
    "target_ = ['target']\n",
    "cat_vars = ['f_61','f_121','f_215','f_237']   # train_x.iloc[:,[61,121,215,237]]\n",
    "cnt_vars = [x for x in col_names if x not in cat_vars]\n",
    "cnt_vars = [x for x in cnt_vars if x not in target_]"
   ]
  },
  {
   "cell_type": "code",
   "execution_count": 6,
   "metadata": {
    "collapsed": false
   },
   "outputs": [],
   "source": [
    "#train_x.dtypes"
   ]
  },
  {
   "cell_type": "code",
   "execution_count": 7,
   "metadata": {
    "collapsed": false
   },
   "outputs": [],
   "source": [
    "# Imputing\n",
    "train_x=train_x.fillna(train_x.mean(), inplace=True)\n",
    "train_x[cat_vars] = train_x[cat_vars].fillna('missing')"
   ]
  },
  {
   "cell_type": "code",
   "execution_count": 8,
   "metadata": {
    "collapsed": false
   },
   "outputs": [],
   "source": [
    "# train_y.isnull().sum()"
   ]
  },
  {
   "cell_type": "code",
   "execution_count": 9,
   "metadata": {
    "collapsed": true
   },
   "outputs": [],
   "source": [
    "# Checking out the count of each of the values in the categorical columns\n",
    "# This is to get a fair idea of the count of each of the values present, if less than 5% then could be grouped\n",
    "# No such case, by observation!"
   ]
  },
  {
   "cell_type": "code",
   "execution_count": 10,
   "metadata": {
    "collapsed": false,
    "scrolled": true
   },
   "outputs": [
    {
     "data": {
      "text/plain": [
       "d          1015\n",
       "b           982\n",
       "c           979\n",
       "e           975\n",
       "a           954\n",
       "missing      95\n",
       "Name: f_61, dtype: int64"
      ]
     },
     "execution_count": 10,
     "metadata": {},
     "output_type": "execute_result"
    }
   ],
   "source": [
    "train_x.f_61.value_counts()"
   ]
  },
  {
   "cell_type": "code",
   "execution_count": 11,
   "metadata": {
    "collapsed": false
   },
   "outputs": [
    {
     "data": {
      "text/plain": [
       "B          837\n",
       "E          830\n",
       "A          829\n",
       "C          815\n",
       "F          803\n",
       "D          800\n",
       "missing     86\n",
       "Name: f_121, dtype: int64"
      ]
     },
     "execution_count": 11,
     "metadata": {},
     "output_type": "execute_result"
    }
   ],
   "source": [
    "train_x.f_121.value_counts()"
   ]
  },
  {
   "cell_type": "code",
   "execution_count": 12,
   "metadata": {
    "collapsed": false
   },
   "outputs": [
    {
     "data": {
      "text/plain": [
       "red        1294\n",
       "yellow     1224\n",
       "orange     1198\n",
       "blue       1182\n",
       "missing     102\n",
       "Name: f_215, dtype: int64"
      ]
     },
     "execution_count": 12,
     "metadata": {},
     "output_type": "execute_result"
    }
   ],
   "source": [
    "train_x.f_215.value_counts()"
   ]
  },
  {
   "cell_type": "code",
   "execution_count": 13,
   "metadata": {
    "collapsed": false
   },
   "outputs": [
    {
     "data": {
      "text/plain": [
       "Canada     1677\n",
       "USA        1650\n",
       "Mexico     1578\n",
       "missing      95\n",
       "Name: f_237, dtype: int64"
      ]
     },
     "execution_count": 13,
     "metadata": {},
     "output_type": "execute_result"
    }
   ],
   "source": [
    "train_x.f_237.value_counts()"
   ]
  },
  {
   "cell_type": "code",
   "execution_count": 14,
   "metadata": {
    "collapsed": true
   },
   "outputs": [],
   "source": [
    "train_gp = train_x[cat_vars]\n",
    "cat_list = pd.get_dummies(train_gp).columns   # len(cat_list) = 22"
   ]
  },
  {
   "cell_type": "code",
   "execution_count": 15,
   "metadata": {
    "collapsed": true
   },
   "outputs": [],
   "source": [
    "# Categorical variables from the DataFrame : Dummy operation\n",
    "train_x = pd.get_dummies(train_x)"
   ]
  },
  {
   "cell_type": "code",
   "execution_count": 16,
   "metadata": {
    "collapsed": false
   },
   "outputs": [
    {
     "name": "stdout",
     "output_type": "stream",
     "text": [
      "<class 'pandas.core.frame.DataFrame'>\n",
      "RangeIndex: 5000 entries, 0 to 4999\n",
      "Columns: 272 entries, f_0 to f_237_missing\n",
      "dtypes: float64(272)\n",
      "memory usage: 10.4 MB\n"
     ]
    }
   ],
   "source": [
    "train_x.info()"
   ]
  },
  {
   "cell_type": "code",
   "execution_count": 17,
   "metadata": {
    "collapsed": false
   },
   "outputs": [
    {
     "data": {
      "text/plain": [
       "Series([], dtype: int64)"
      ]
     },
     "execution_count": 17,
     "metadata": {},
     "output_type": "execute_result"
    }
   ],
   "source": [
    "# Checking for any NULL values as of now\n",
    "null_vals = train_x.isnull().sum()\n",
    "null_vals[null_vals>0]"
   ]
  },
  {
   "cell_type": "code",
   "execution_count": 18,
   "metadata": {
    "collapsed": false
   },
   "outputs": [
    {
     "name": "stdout",
     "output_type": "stream",
     "text": [
      "(5000,)\n",
      "(5000, 272)\n"
     ]
    }
   ],
   "source": [
    "print train_y.shape\n",
    "print train_x.shape"
   ]
  },
  {
   "cell_type": "code",
   "execution_count": 19,
   "metadata": {
    "collapsed": true
   },
   "outputs": [],
   "source": [
    "train_x.to_csv('train_x.csv')\n",
    "train_y.to_csv('train_y.csv')"
   ]
  },
  {
   "cell_type": "code",
   "execution_count": 20,
   "metadata": {
    "collapsed": false
   },
   "outputs": [],
   "source": [
    "pd.DataFrame(cat_list).to_csv('train_cat_list.csv')"
   ]
  },
  {
   "cell_type": "code",
   "execution_count": null,
   "metadata": {
    "collapsed": false
   },
   "outputs": [],
   "source": []
  },
  {
   "cell_type": "code",
   "execution_count": null,
   "metadata": {
    "collapsed": true
   },
   "outputs": [],
   "source": []
  }
 ],
 "metadata": {
  "anaconda-cloud": {},
  "kernelspec": {
   "display_name": "research",
   "language": "python",
   "name": "python2"
  },
  "language_info": {
   "codemirror_mode": {
    "name": "ipython",
    "version": 2
   },
   "file_extension": ".py",
   "mimetype": "text/x-python",
   "name": "python",
   "nbconvert_exporter": "python",
   "pygments_lexer": "ipython2",
   "version": "2.7.12"
  }
 },
 "nbformat": 4,
 "nbformat_minor": 0
}
