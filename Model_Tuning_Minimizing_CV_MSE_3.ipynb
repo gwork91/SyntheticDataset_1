{
 "cells": [
  {
   "cell_type": "code",
   "execution_count": 1,
   "metadata": {
    "collapsed": true
   },
   "outputs": [],
   "source": [
    "# Importing all the necessary packages\n",
    "import numpy as np\n",
    "import pandas as pd\n",
    "import matplotlib.pyplot as plt\n",
    "%matplotlib inline\n",
    "import datetime\n",
    "from sklearn import cross_validation\n",
    "from sklearn.metrics import roc_auc_score\n",
    "from sklearn.ensemble import ExtraTreesClassifier\n",
    "from sklearn.metrics import confusion_matrix\n",
    "from sklearn.cross_validation import cross_val_score\n",
    "import xgboost as xgb\n",
    "from xgboost import XGBClassifier\n",
    "from xgboost import XGBRegressor\n",
    "from sklearn.grid_search import GridSearchCV\n",
    "from sklearn.metrics import log_loss"
   ]
  },
  {
   "cell_type": "code",
   "execution_count": 2,
   "metadata": {
    "collapsed": false
   },
   "outputs": [],
   "source": [
    "X_train = pd.read_csv('train_x.csv', index_col=0)\n",
    "y_train = pd.read_csv('train_y.csv', header=None, usecols=(1,1))   "
   ]
  },
  {
   "cell_type": "code",
   "execution_count": 3,
   "metadata": {
    "collapsed": true
   },
   "outputs": [],
   "source": [
    "# Selecting the top variables 107 variables from the list of variables on the basis of VIF\n",
    "cnts_vars_final = ['f_158','f_19','f_154','f_48','f_202','f_113','f_69','f_27','f_74','f_240','f_6','f_108','f_118',\n",
    "                   'f_112','f_227','f_177','f_110','f_53','f_4','f_231','f_246','f_152','f_201','f_0','f_225','f_184',\n",
    "                   'f_56','f_16','f_90','f_37','f_200','f_203','f_129','f_236','f_46','f_182','f_100','f_176','f_251',\n",
    "                   'f_247','f_17','f_206','f_238','f_23','f_24','f_126','f_127','f_64','f_41','f_111','f_65','f_22',\n",
    "                   'f_128','f_136','f_107','f_92','f_122','f_78','f_2','f_10','f_59','f_229','f_125','f_33','f_40',\n",
    "                   'f_170','f_159','f_5','f_174','f_194','f_241','f_77','f_199','f_140','f_198','f_178','f_216',\n",
    "                   'f_188','f_120','f_131','f_144','f_67','f_50','f_221','f_60','f_42','f_180','f_76','f_226',\n",
    "                   'f_149','f_1','f_73','f_18','f_155','f_173','f_85','f_135','f_248','f_68','f_191','f_252',\n",
    "                   'f_98','f_204','f_45','f_58','f_28','f_183']"
   ]
  },
  {
   "cell_type": "code",
   "execution_count": 4,
   "metadata": {
    "collapsed": false
   },
   "outputs": [
    {
     "data": {
      "text/plain": [
       "['f_158',\n",
       " 'f_19',\n",
       " 'f_154',\n",
       " 'f_48',\n",
       " 'f_202',\n",
       " 'f_113',\n",
       " 'f_69',\n",
       " 'f_27',\n",
       " 'f_74',\n",
       " 'f_240',\n",
       " 'f_6',\n",
       " 'f_108',\n",
       " 'f_118',\n",
       " 'f_112',\n",
       " 'f_227',\n",
       " 'f_177',\n",
       " 'f_110',\n",
       " 'f_53',\n",
       " 'f_4',\n",
       " 'f_231',\n",
       " 'f_246',\n",
       " 'f_152',\n",
       " 'f_201',\n",
       " 'f_0',\n",
       " 'f_225',\n",
       " 'f_184',\n",
       " 'f_56',\n",
       " 'f_16',\n",
       " 'f_90',\n",
       " 'f_37',\n",
       " 'f_200',\n",
       " 'f_203',\n",
       " 'f_129',\n",
       " 'f_236',\n",
       " 'f_46',\n",
       " 'f_182',\n",
       " 'f_100',\n",
       " 'f_176',\n",
       " 'f_251',\n",
       " 'f_247',\n",
       " 'f_17',\n",
       " 'f_206',\n",
       " 'f_238',\n",
       " 'f_23',\n",
       " 'f_24',\n",
       " 'f_126',\n",
       " 'f_127',\n",
       " 'f_64',\n",
       " 'f_41',\n",
       " 'f_111',\n",
       " 'f_65',\n",
       " 'f_22',\n",
       " 'f_128',\n",
       " 'f_136',\n",
       " 'f_107',\n",
       " 'f_92',\n",
       " 'f_122',\n",
       " 'f_78',\n",
       " 'f_2',\n",
       " 'f_10',\n",
       " 'f_59',\n",
       " 'f_229',\n",
       " 'f_125',\n",
       " 'f_33',\n",
       " 'f_40',\n",
       " 'f_170',\n",
       " 'f_159',\n",
       " 'f_5',\n",
       " 'f_174',\n",
       " 'f_194',\n",
       " 'f_241',\n",
       " 'f_77',\n",
       " 'f_199',\n",
       " 'f_140',\n",
       " 'f_198',\n",
       " 'f_178',\n",
       " 'f_216',\n",
       " 'f_188',\n",
       " 'f_120',\n",
       " 'f_131',\n",
       " 'f_144',\n",
       " 'f_67',\n",
       " 'f_50',\n",
       " 'f_221',\n",
       " 'f_60',\n",
       " 'f_42',\n",
       " 'f_180',\n",
       " 'f_76',\n",
       " 'f_226',\n",
       " 'f_149',\n",
       " 'f_1',\n",
       " 'f_73',\n",
       " 'f_18',\n",
       " 'f_155',\n",
       " 'f_173',\n",
       " 'f_85',\n",
       " 'f_135',\n",
       " 'f_248',\n",
       " 'f_68',\n",
       " 'f_191',\n",
       " 'f_252',\n",
       " 'f_98',\n",
       " 'f_204',\n",
       " 'f_45',\n",
       " 'f_58',\n",
       " 'f_28',\n",
       " 'f_183',\n",
       " 'f_61_a',\n",
       " 'f_61_b',\n",
       " 'f_61_c',\n",
       " 'f_61_d',\n",
       " 'f_61_e',\n",
       " 'f_61_missing',\n",
       " 'f_121_A',\n",
       " 'f_121_B',\n",
       " 'f_121_C',\n",
       " 'f_121_D',\n",
       " 'f_121_E',\n",
       " 'f_121_F',\n",
       " 'f_121_missing',\n",
       " 'f_215_blue',\n",
       " 'f_215_missing',\n",
       " 'f_215_orange',\n",
       " 'f_215_red',\n",
       " 'f_215_yellow',\n",
       " 'f_237_Canada',\n",
       " 'f_237_Mexico',\n",
       " 'f_237_USA',\n",
       " 'f_237_missing']"
      ]
     },
     "execution_count": 4,
     "metadata": {},
     "output_type": "execute_result"
    }
   ],
   "source": [
    "cat_vars_final = list(pd.read_csv('cat_vars.csv')['0'])\n",
    "#cat_vars_final = cat_vars_final[1:10]\n",
    "var = cnts_vars_final\n",
    "var.extend(cat_vars_final)\n",
    "var"
   ]
  },
  {
   "cell_type": "code",
   "execution_count": 5,
   "metadata": {
    "collapsed": false
   },
   "outputs": [],
   "source": [
    "# function for xgboost\n",
    "def modelfit(alg, dtrain, predictors, useTrainCV=True, cv_folds=5, early_stopping_rounds=50):\n",
    "    \n",
    "    if useTrainCV:\n",
    "        xgb_param = alg.get_xgb_params()\n",
    "        xgtrain = xgb.DMatrix(dtrain[predictors].values, label=y_train[1].values)\n",
    "        cvresult = xgb.cv(xgb_param, xgtrain, num_boost_round=alg.get_params()['n_estimators'], nfold=cv_folds,\n",
    "                          metrics=['logloss'], early_stopping_rounds=early_stopping_rounds, show_progress=False)\n",
    "        alg.set_params(n_estimators=cvresult.shape[0])\n",
    "    \n",
    "    #Fit the algorithm on the data\n",
    "    alg.fit(dtrain[predictors], np.ravel(y_train),eval_metric='logloss')\n",
    "        \n",
    "    feat_imp = pd.Series(alg.booster().get_fscore()).sort_values(ascending=False)\n",
    "    feat_imp.plot(kind='bar', title='Feature Importances')\n",
    "    plt.ylabel('Feature Importance Score')"
   ]
  },
  {
   "cell_type": "code",
   "execution_count": 6,
   "metadata": {
    "collapsed": false
   },
   "outputs": [],
   "source": [
    "# xgboost classifier\n",
    "xgb1 = XGBRegressor(learning_rate =0.03, n_estimators=300, max_depth=2, reg_alpha = 0.005, min_child_weight=5, gamma=0.3,\n",
    "                    colsample_bytree=0.8, subsample=0.8, reg_lambda = 1.2, max_delta_step=3,objective= 'reg:linear',\n",
    "                    nthread=4, scale_pos_weight=1, seed=45, base_score=0.55)\n",
    "# xgb1 = XGBRegressor( objective= 'reg:linear', nthread=4, reg_lambda=0.1, reg_alpha=0.12, seed=45, base_score=0.55)"
   ]
  },
  {
   "cell_type": "code",
   "execution_count": 7,
   "metadata": {
    "collapsed": false
   },
   "outputs": [
    {
     "name": "stderr",
     "output_type": "stream",
     "text": [
      "Will train until cv error hasn't decreased in 50 rounds.\n",
      "Stopping. Best iteration:\n",
      "[33] cv-mean:-35.3682334\tcv-std:7.04176937081\n"
     ]
    },
    {
     "data": {
      "image/png": "[encoded data removed]",
      "text/plain": [
       "<matplotlib.figure.Figure at 0x7f686c861c10>"
      ]
     },
     "metadata": {},
     "output_type": "display_data"
    }
   ],
   "source": [
    "#Choose the predictors for xgboost and fit the model\n",
    "predictors = var\n",
    "modelfit(xgb1, X_train, predictors)"
   ]
  },
  {
   "cell_type": "code",
   "execution_count": 8,
   "metadata": {
    "collapsed": true
   },
   "outputs": [],
   "source": [
    "#T_train_xgb = xgb.DMatrix(X_train[var], y_train)\n",
    "#params = {\"objective\": \"reg:linear\", \"booster\":\"gblinear\"}\n",
    "#gbm = xgb.train(dtrain=T_train_xgb,params=params)"
   ]
  },
  {
   "cell_type": "code",
   "execution_count": 9,
   "metadata": {
    "collapsed": false
   },
   "outputs": [],
   "source": [
    "#X_test = pd.read_csv('test_.csv', index_col=0)\n",
    "#X_test = X_test[var]\n",
    "#Y_pred = gbm.predict(xgb.DMatrix(X_test))\n",
    "#print Y_pred\n",
    "#pd.DataFrame(Y_pred)"
   ]
  },
  {
   "cell_type": "code",
   "execution_count": 10,
   "metadata": {
    "collapsed": false
   },
   "outputs": [
    {
     "name": "stdout",
     "output_type": "stream",
     "text": [
      "25.870556446\n"
     ]
    }
   ],
   "source": [
    "# Train \n",
    "from sklearn.metrics import mean_squared_error\n",
    "y_predS = xgb1.predict(X_train[var])\n",
    "print(mean_squared_error(y_train, y_predS))"
   ]
  },
  {
   "cell_type": "code",
   "execution_count": 11,
   "metadata": {
    "collapsed": false
   },
   "outputs": [],
   "source": [
    "# Tune tree pruning parameters: max_depth and min_child_weight\n",
    "param_test1 = {\n",
    "   'max_depth':[2, 3, 4, 5, 6],\n",
    "    'min_child_weight':[1, 2, 3, 4, 5, 6, 10, 15, 100]\n",
    "}\n",
    "\n",
    "gsearch1 = GridSearchCV(estimator = XGBRegressor(learning_rate =0.03, n_estimators=300, max_depth=2, reg_alpha = 0.005, \n",
    "                                                 min_child_weight=5, gamma=0.3,colsample_bytree=0.8, subsample=0.8, \n",
    "                                                 reg_lambda = 1.2, max_delta_step=3,objective= 'reg:linear',nthread=4, \n",
    "                                                 scale_pos_weight=1, seed=45, base_score=0.55 ),\n",
    "                        param_grid = param_test1,scoring='mean_squared_error', n_jobs=4,iid=False, cv=3)\n",
    "\n",
    "gsearch1.fit(X_train[var],np.ravel(y_train))\n",
    "pd.Series(gsearch1.grid_scores_).to_csv('/home/pgoyal/Projects/app/gsresearch1.csv')"
   ]
  },
  {
   "cell_type": "code",
   "execution_count": 12,
   "metadata": {
    "collapsed": false
   },
   "outputs": [
    {
     "data": {
      "text/plain": [
       "([mean: -25.79173, std: 1.06554, params: {'max_depth': 2, 'min_child_weight': 1},\n",
       "  mean: -25.79143, std: 1.06806, params: {'max_depth': 2, 'min_child_weight': 2},\n",
       "  mean: -25.78834, std: 1.07625, params: {'max_depth': 2, 'min_child_weight': 3},\n",
       "  mean: -25.77967, std: 1.07114, params: {'max_depth': 2, 'min_child_weight': 4},\n",
       "  mean: -25.78510, std: 1.07518, params: {'max_depth': 2, 'min_child_weight': 5},\n",
       "  mean: -25.79414, std: 1.08182, params: {'max_depth': 2, 'min_child_weight': 6},\n",
       "  mean: -25.77264, std: 1.07043, params: {'max_depth': 2, 'min_child_weight': 10},\n",
       "  mean: -25.80502, std: 1.08110, params: {'max_depth': 2, 'min_child_weight': 15},\n",
       "  mean: -25.77385, std: 1.05444, params: {'max_depth': 2, 'min_child_weight': 100},\n",
       "  mean: -25.98863, std: 1.05106, params: {'max_depth': 3, 'min_child_weight': 1},\n",
       "  mean: -25.95940, std: 1.04144, params: {'max_depth': 3, 'min_child_weight': 2},\n",
       "  mean: -25.96406, std: 1.05496, params: {'max_depth': 3, 'min_child_weight': 3},\n",
       "  mean: -25.96791, std: 1.04725, params: {'max_depth': 3, 'min_child_weight': 4},\n",
       "  mean: -25.95774, std: 1.05284, params: {'max_depth': 3, 'min_child_weight': 5},\n",
       "  mean: -25.94458, std: 1.07355, params: {'max_depth': 3, 'min_child_weight': 6},\n",
       "  mean: -25.95445, std: 1.10332, params: {'max_depth': 3, 'min_child_weight': 10},\n",
       "  mean: -25.94847, std: 1.07505, params: {'max_depth': 3, 'min_child_weight': 15},\n",
       "  mean: -26.03833, std: 1.13381, params: {'max_depth': 3, 'min_child_weight': 100},\n",
       "  mean: -26.15647, std: 1.07961, params: {'max_depth': 4, 'min_child_weight': 1},\n",
       "  mean: -26.15466, std: 1.12492, params: {'max_depth': 4, 'min_child_weight': 2},\n",
       "  mean: -26.16553, std: 1.09557, params: {'max_depth': 4, 'min_child_weight': 3},\n",
       "  mean: -26.13109, std: 1.14375, params: {'max_depth': 4, 'min_child_weight': 4},\n",
       "  mean: -26.15288, std: 1.13333, params: {'max_depth': 4, 'min_child_weight': 5},\n",
       "  mean: -26.12517, std: 1.11667, params: {'max_depth': 4, 'min_child_weight': 6},\n",
       "  mean: -26.22700, std: 1.16131, params: {'max_depth': 4, 'min_child_weight': 10},\n",
       "  mean: -26.20828, std: 1.13838, params: {'max_depth': 4, 'min_child_weight': 15},\n",
       "  mean: -26.16305, std: 1.13937, params: {'max_depth': 4, 'min_child_weight': 100},\n",
       "  mean: -26.23184, std: 1.14255, params: {'max_depth': 5, 'min_child_weight': 1},\n",
       "  mean: -26.18802, std: 1.15967, params: {'max_depth': 5, 'min_child_weight': 2},\n",
       "  mean: -26.29581, std: 1.11165, params: {'max_depth': 5, 'min_child_weight': 3},\n",
       "  mean: -26.26767, std: 1.08567, params: {'max_depth': 5, 'min_child_weight': 4},\n",
       "  mean: -26.30504, std: 1.09763, params: {'max_depth': 5, 'min_child_weight': 5},\n",
       "  mean: -26.34005, std: 1.14801, params: {'max_depth': 5, 'min_child_weight': 6},\n",
       "  mean: -26.36546, std: 1.09925, params: {'max_depth': 5, 'min_child_weight': 10},\n",
       "  mean: -26.40731, std: 1.14468, params: {'max_depth': 5, 'min_child_weight': 15},\n",
       "  mean: -26.36741, std: 1.10175, params: {'max_depth': 5, 'min_child_weight': 100},\n",
       "  mean: -26.35816, std: 1.14195, params: {'max_depth': 6, 'min_child_weight': 1},\n",
       "  mean: -26.38239, std: 1.19307, params: {'max_depth': 6, 'min_child_weight': 2},\n",
       "  mean: -26.38673, std: 1.17131, params: {'max_depth': 6, 'min_child_weight': 3},\n",
       "  mean: -26.29307, std: 1.28582, params: {'max_depth': 6, 'min_child_weight': 4},\n",
       "  mean: -26.43841, std: 1.29772, params: {'max_depth': 6, 'min_child_weight': 5},\n",
       "  mean: -26.33392, std: 1.26196, params: {'max_depth': 6, 'min_child_weight': 6},\n",
       "  mean: -26.36592, std: 1.15608, params: {'max_depth': 6, 'min_child_weight': 10},\n",
       "  mean: -26.52722, std: 1.21409, params: {'max_depth': 6, 'min_child_weight': 15},\n",
       "  mean: -26.65148, std: 1.18298, params: {'max_depth': 6, 'min_child_weight': 100}],\n",
       " {'max_depth': 2, 'min_child_weight': 10},\n",
       " -25.772637090199737)"
      ]
     },
     "execution_count": 12,
     "metadata": {},
     "output_type": "execute_result"
    }
   ],
   "source": [
    "gsearch1.grid_scores_, gsearch1.best_params_, gsearch1.best_score_"
   ]
  },
  {
   "cell_type": "code",
   "execution_count": 13,
   "metadata": {
    "collapsed": true
   },
   "outputs": [],
   "source": [
    "# Tune gamma\n",
    "param_test1 = {\n",
    "'gamma':[i/10.0 for i in range(0,5)]\n",
    "}\n",
    "\n",
    "gsearch1 = GridSearchCV(estimator = XGBRegressor(learning_rate =0.03, n_estimators=300, max_depth=2, reg_alpha = 0.005, \n",
    "                                                 min_child_weight=10, gamma=0.3,colsample_bytree=0.8, subsample=0.8, \n",
    "                                                 reg_lambda = 1.2, max_delta_step=3,objective= 'reg:linear',nthread=4, \n",
    "                                                 scale_pos_weight=1, seed=45, base_score=0.55 ),\n",
    "                        param_grid = param_test1,scoring='mean_squared_error', n_jobs=4,iid=False, cv=3)\n",
    "\n",
    "gsearch1.fit(X_train[var],np.ravel(y_train))\n",
    "pd.Series(gsearch1.grid_scores_).to_csv('/home/pgoyal/Projects/app/gsresearch2.csv')"
   ]
  },
  {
   "cell_type": "code",
   "execution_count": 14,
   "metadata": {
    "collapsed": false
   },
   "outputs": [
    {
     "data": {
      "text/plain": [
       "([mean: -25.77264, std: 1.07043, params: {'gamma': 0.0},\n",
       "  mean: -25.77264, std: 1.07043, params: {'gamma': 0.1},\n",
       "  mean: -25.77264, std: 1.07043, params: {'gamma': 0.2},\n",
       "  mean: -25.77264, std: 1.07043, params: {'gamma': 0.3},\n",
       "  mean: -25.77264, std: 1.07043, params: {'gamma': 0.4}],\n",
       " {'gamma': 0.0},\n",
       " -25.772637090199737)"
      ]
     },
     "execution_count": 14,
     "metadata": {},
     "output_type": "execute_result"
    }
   ],
   "source": [
    "gsearch1.grid_scores_, gsearch1.best_params_, gsearch1.best_score_"
   ]
  },
  {
   "cell_type": "code",
   "execution_count": 15,
   "metadata": {
    "collapsed": true
   },
   "outputs": [],
   "source": [
    "# Tune sample size and number of columns for a single tree\n",
    "param_test1 = {\n",
    "'subsample':[i/10.0 for i in range(6,10)],\n",
    " 'colsample_bytree':[i/10.0 for i in range(4,10)]\n",
    "}\n",
    "\n",
    "gsearch1 = GridSearchCV(estimator = XGBRegressor(learning_rate =0.03, n_estimators=300, max_depth=2, reg_alpha = 0.005, \n",
    "                                                 min_child_weight=10, gamma=0.0,colsample_bytree=0.8, subsample=0.8, \n",
    "                                                 reg_lambda = 1.2, max_delta_step=3,objective= 'reg:linear',nthread=4, \n",
    "                                                 scale_pos_weight=1, seed=45, base_score=0.55 ),\n",
    "                        param_grid = param_test1,scoring='mean_squared_error', n_jobs=4,iid=False, cv=3)\n",
    "gsearch1.fit(X_train[var],np.ravel(y_train))\n",
    "pd.Series(gsearch1.grid_scores_).to_csv('/home/pgoyal/Projects/app/gsresearch3.csv')"
   ]
  },
  {
   "cell_type": "code",
   "execution_count": 16,
   "metadata": {
    "collapsed": false
   },
   "outputs": [
    {
     "data": {
      "text/plain": [
       "([mean: -25.82861, std: 1.14110, params: {'subsample': 0.6, 'colsample_bytree': 0.4},\n",
       "  mean: -25.76952, std: 1.15577, params: {'subsample': 0.7, 'colsample_bytree': 0.4},\n",
       "  mean: -25.70730, std: 1.10361, params: {'subsample': 0.8, 'colsample_bytree': 0.4},\n",
       "  mean: -25.75560, std: 1.07990, params: {'subsample': 0.9, 'colsample_bytree': 0.4},\n",
       "  mean: -25.77770, std: 1.09001, params: {'subsample': 0.6, 'colsample_bytree': 0.5},\n",
       "  mean: -25.75859, std: 1.14175, params: {'subsample': 0.7, 'colsample_bytree': 0.5},\n",
       "  mean: -25.74656, std: 1.12404, params: {'subsample': 0.8, 'colsample_bytree': 0.5},\n",
       "  mean: -25.76190, std: 1.11114, params: {'subsample': 0.9, 'colsample_bytree': 0.5},\n",
       "  mean: -25.82250, std: 1.08901, params: {'subsample': 0.6, 'colsample_bytree': 0.6},\n",
       "  mean: -25.78170, std: 1.13774, params: {'subsample': 0.7, 'colsample_bytree': 0.6},\n",
       "  mean: -25.76962, std: 1.05898, params: {'subsample': 0.8, 'colsample_bytree': 0.6},\n",
       "  mean: -25.79996, std: 1.09551, params: {'subsample': 0.9, 'colsample_bytree': 0.6},\n",
       "  mean: -25.83834, std: 1.13053, params: {'subsample': 0.6, 'colsample_bytree': 0.7},\n",
       "  mean: -25.80035, std: 1.12321, params: {'subsample': 0.7, 'colsample_bytree': 0.7},\n",
       "  mean: -25.76364, std: 1.04365, params: {'subsample': 0.8, 'colsample_bytree': 0.7},\n",
       "  mean: -25.76838, std: 1.09093, params: {'subsample': 0.9, 'colsample_bytree': 0.7},\n",
       "  mean: -25.86444, std: 1.10142, params: {'subsample': 0.6, 'colsample_bytree': 0.8},\n",
       "  mean: -25.80344, std: 1.10792, params: {'subsample': 0.7, 'colsample_bytree': 0.8},\n",
       "  mean: -25.77264, std: 1.07043, params: {'subsample': 0.8, 'colsample_bytree': 0.8},\n",
       "  mean: -25.77901, std: 1.06667, params: {'subsample': 0.9, 'colsample_bytree': 0.8},\n",
       "  mean: -25.85683, std: 1.07350, params: {'subsample': 0.6, 'colsample_bytree': 0.9},\n",
       "  mean: -25.81246, std: 1.09295, params: {'subsample': 0.7, 'colsample_bytree': 0.9},\n",
       "  mean: -25.79248, std: 1.03825, params: {'subsample': 0.8, 'colsample_bytree': 0.9},\n",
       "  mean: -25.80111, std: 1.07622, params: {'subsample': 0.9, 'colsample_bytree': 0.9}],\n",
       " {'colsample_bytree': 0.4, 'subsample': 0.8},\n",
       " -25.707295044921072)"
      ]
     },
     "execution_count": 16,
     "metadata": {},
     "output_type": "execute_result"
    }
   ],
   "source": [
    "gsearch1.grid_scores_, gsearch1.best_params_, gsearch1.best_score_"
   ]
  },
  {
   "cell_type": "code",
   "execution_count": 17,
   "metadata": {
    "collapsed": true
   },
   "outputs": [],
   "source": [
    "# Tune regularization parameter: reg_alpha\n",
    "param_test1 = {\n",
    "'reg_alpha':[1e-5, 1e-2, 0.1, 1, 100]\n",
    "}\n",
    "\n",
    "gsearch1 = GridSearchCV(estimator = XGBRegressor(learning_rate =0.03, n_estimators=300, max_depth=2, reg_alpha = 0.005, \n",
    "                                                 min_child_weight=10, gamma=0.0,colsample_bytree=0.4, subsample=0.8, \n",
    "                                                 reg_lambda = 1.2, max_delta_step=3,objective= 'reg:linear',nthread=4, \n",
    "                                                 scale_pos_weight=1, seed=45, base_score=0.55 ),\n",
    "                        param_grid = param_test1,scoring='mean_squared_error', n_jobs=4,iid=False, cv=3)\n",
    "gsearch1.fit(X_train[var],np.ravel(y_train))\n",
    "pd.Series(gsearch1.grid_scores_).to_csv('/home/pgoyal/Projects/app/gsresearch4.csv')"
   ]
  },
  {
   "cell_type": "code",
   "execution_count": 18,
   "metadata": {
    "collapsed": false
   },
   "outputs": [
    {
     "data": {
      "text/plain": [
       "([mean: -25.70730, std: 1.10361, params: {'reg_alpha': 1e-05},\n",
       "  mean: -25.70729, std: 1.10361, params: {'reg_alpha': 0.01},\n",
       "  mean: -25.70405, std: 1.11716, params: {'reg_alpha': 0.1},\n",
       "  mean: -25.72755, std: 1.11088, params: {'reg_alpha': 1},\n",
       "  mean: -25.68946, std: 1.14679, params: {'reg_alpha': 100}],\n",
       " {'reg_alpha': 100},\n",
       " -25.689462640705887)"
      ]
     },
     "execution_count": 18,
     "metadata": {},
     "output_type": "execute_result"
    }
   ],
   "source": [
    "gsearch1.grid_scores_, gsearch1.best_params_, gsearch1.best_score_"
   ]
  },
  {
   "cell_type": "code",
   "execution_count": 19,
   "metadata": {
    "collapsed": true
   },
   "outputs": [],
   "source": [
    "# Tune regularization parameters: reg_lambda\n",
    "param_test1 = {\n",
    "    'reg_lambda':[0, 1, 1.1, 1.2, 1.5, 2, 3, 5]\n",
    "}\n",
    "\n",
    "gsearch1 = GridSearchCV(estimator = XGBRegressor(learning_rate =0.03, n_estimators=300, max_depth=2, reg_alpha = 100, \n",
    "                                                 min_child_weight=10, gamma=0.0,colsample_bytree=0.4, subsample=0.8, \n",
    "                                                 reg_lambda = 1.2, max_delta_step=3,objective= 'reg:linear',nthread=4, \n",
    "                                                 scale_pos_weight=1, seed=45, base_score=0.55 ),\n",
    "                        param_grid = param_test1,scoring='mean_squared_error', n_jobs=4,iid=False, cv=3)\n",
    "gsearch1.fit(X_train[var],np.ravel(y_train))\n",
    "pd.Series(gsearch1.grid_scores_).to_csv('/home/pgoyal/Projects/app/gsresearch5.csv')"
   ]
  },
  {
   "cell_type": "code",
   "execution_count": 20,
   "metadata": {
    "collapsed": false
   },
   "outputs": [
    {
     "data": {
      "text/plain": [
       "([mean: -25.68789, std: 1.15678, params: {'reg_lambda': 0},\n",
       "  mean: -25.68936, std: 1.14659, params: {'reg_lambda': 1},\n",
       "  mean: -25.69229, std: 1.15076, params: {'reg_lambda': 1.1},\n",
       "  mean: -25.68946, std: 1.14679, params: {'reg_lambda': 1.2},\n",
       "  mean: -25.68709, std: 1.14858, params: {'reg_lambda': 1.5},\n",
       "  mean: -25.68643, std: 1.14776, params: {'reg_lambda': 2},\n",
       "  mean: -25.68377, std: 1.15460, params: {'reg_lambda': 3},\n",
       "  mean: -25.68202, std: 1.16029, params: {'reg_lambda': 5}],\n",
       " {'reg_lambda': 5},\n",
       " -25.682023816949737)"
      ]
     },
     "execution_count": 20,
     "metadata": {},
     "output_type": "execute_result"
    }
   ],
   "source": [
    "gsearch1.grid_scores_, gsearch1.best_params_, gsearch1.best_score_"
   ]
  },
  {
   "cell_type": "code",
   "execution_count": 21,
   "metadata": {
    "collapsed": true
   },
   "outputs": [],
   "source": [
    "param_test1 = {\n",
    "'max_delta_step':[0, 1, 2, 3, 4, 5, 10, 100]\n",
    "}\n",
    "\n",
    "gsearch1 = GridSearchCV(estimator = XGBRegressor(learning_rate =0.03, n_estimators=300, max_depth=2, reg_alpha = 100, \n",
    "                                                 min_child_weight=10, gamma=0.0,colsample_bytree=0.4, subsample=0.8, \n",
    "                                                 reg_lambda = 5, max_delta_step=3,objective= 'reg:linear',nthread=4, \n",
    "                                                 scale_pos_weight=1, seed=45, base_score=0.55 ),\n",
    "                        param_grid = param_test1,scoring='mean_squared_error', n_jobs=4,iid=False, cv=3)\n",
    "gsearch1.fit(X_train[var],np.ravel(y_train))\n",
    "pd.Series(gsearch1.grid_scores_).to_csv('/home/pgoyal/Projects/app/gsresearch6.csv')"
   ]
  },
  {
   "cell_type": "code",
   "execution_count": 22,
   "metadata": {
    "collapsed": false
   },
   "outputs": [
    {
     "data": {
      "text/plain": [
       "([mean: -25.68202, std: 1.16029, params: {'max_delta_step': 0},\n",
       "  mean: -25.66817, std: 1.16142, params: {'max_delta_step': 1},\n",
       "  mean: -25.68213, std: 1.16021, params: {'max_delta_step': 2},\n",
       "  mean: -25.68202, std: 1.16029, params: {'max_delta_step': 3},\n",
       "  mean: -25.68202, std: 1.16029, params: {'max_delta_step': 4},\n",
       "  mean: -25.68202, std: 1.16029, params: {'max_delta_step': 5},\n",
       "  mean: -25.68202, std: 1.16029, params: {'max_delta_step': 10},\n",
       "  mean: -25.68202, std: 1.16029, params: {'max_delta_step': 100}],\n",
       " {'max_delta_step': 1},\n",
       " -25.668174002456993)"
      ]
     },
     "execution_count": 22,
     "metadata": {},
     "output_type": "execute_result"
    }
   ],
   "source": [
    "gsearch1.grid_scores_, gsearch1.best_params_, gsearch1.best_score_"
   ]
  },
  {
   "cell_type": "code",
   "execution_count": 23,
   "metadata": {
    "collapsed": true
   },
   "outputs": [],
   "source": [
    "param_test1 = {\n",
    "'scale_pos_weight':[0, 1, 2, 5, 10, 50, 100]\n",
    "}\n",
    "gsearch1 = GridSearchCV(estimator = XGBRegressor(learning_rate =0.03, n_estimators=300, max_depth=2, reg_alpha = 100, \n",
    "                                                 min_child_weight=10, gamma=0.0,colsample_bytree=0.4, subsample=0.8, \n",
    "                                                 reg_lambda = 5, max_delta_step=1,objective= 'reg:linear',nthread=4, \n",
    "                                                 scale_pos_weight=1, seed=45, base_score=0.55 ),\n",
    "                        param_grid = param_test1,scoring='mean_squared_error', n_jobs=4,iid=False, cv=3)\n",
    "gsearch1.fit(X_train[var],np.ravel(y_train))\n",
    "pd.Series(gsearch1.grid_scores_).to_csv('/home/pgoyal/Projects/app/gsresearch7.csv')"
   ]
  },
  {
   "cell_type": "code",
   "execution_count": 24,
   "metadata": {
    "collapsed": false
   },
   "outputs": [
    {
     "data": {
      "text/plain": [
       "([mean: -25.66817, std: 1.16142, params: {'scale_pos_weight': 0},\n",
       "  mean: -25.66817, std: 1.16142, params: {'scale_pos_weight': 1},\n",
       "  mean: -25.66817, std: 1.16142, params: {'scale_pos_weight': 2},\n",
       "  mean: -25.66817, std: 1.16142, params: {'scale_pos_weight': 5},\n",
       "  mean: -25.66817, std: 1.16142, params: {'scale_pos_weight': 10},\n",
       "  mean: -25.66817, std: 1.16142, params: {'scale_pos_weight': 50},\n",
       "  mean: -25.66817, std: 1.16142, params: {'scale_pos_weight': 100}],\n",
       " {'scale_pos_weight': 0},\n",
       " -25.668174002456993)"
      ]
     },
     "execution_count": 24,
     "metadata": {},
     "output_type": "execute_result"
    }
   ],
   "source": [
    "gsearch1.grid_scores_, gsearch1.best_params_, gsearch1.best_score_"
   ]
  },
  {
   "cell_type": "code",
   "execution_count": 25,
   "metadata": {
    "collapsed": true
   },
   "outputs": [],
   "source": [
    "param_test1 = {\n",
    "'learning_rate':[0.01, 0.03, 0.05], \n",
    "'n_estimators':[250, 300, 350, 500, 700]\n",
    "}\n",
    "gsearch1 = GridSearchCV(estimator = XGBRegressor(learning_rate =0.03, n_estimators=300, max_depth=2, reg_alpha = 100, \n",
    "                                                 min_child_weight=10, gamma=0.0,colsample_bytree=0.4, subsample=0.8, \n",
    "                                                 reg_lambda = 5, max_delta_step=1,objective= 'reg:linear',nthread=4, \n",
    "                                                 scale_pos_weight=0, seed=45, base_score=0.55 ),\n",
    "                        param_grid = param_test1,scoring='mean_squared_error', n_jobs=4,iid=False, cv=3)\n",
    "gsearch1.fit(X_train[var],np.ravel(y_train))\n",
    "pd.Series(gsearch1.grid_scores_).to_csv('/home/pgoyal/Projects/gsresearch8.csv')"
   ]
  },
  {
   "cell_type": "code",
   "execution_count": 26,
   "metadata": {
    "collapsed": false
   },
   "outputs": [
    {
     "data": {
      "text/plain": [
       "([mean: -25.90971, std: 1.20954, params: {'n_estimators': 250, 'learning_rate': 0.01},\n",
       "  mean: -25.78555, std: 1.19181, params: {'n_estimators': 300, 'learning_rate': 0.01},\n",
       "  mean: -25.70560, std: 1.18563, params: {'n_estimators': 350, 'learning_rate': 0.01},\n",
       "  mean: -25.62100, std: 1.16706, params: {'n_estimators': 500, 'learning_rate': 0.01},\n",
       "  mean: -25.63779, std: 1.15366, params: {'n_estimators': 700, 'learning_rate': 0.01},\n",
       "  mean: -25.65487, std: 1.16351, params: {'n_estimators': 250, 'learning_rate': 0.03},\n",
       "  mean: -25.66817, std: 1.16142, params: {'n_estimators': 300, 'learning_rate': 0.03},\n",
       "  mean: -25.70001, std: 1.16653, params: {'n_estimators': 350, 'learning_rate': 0.03},\n",
       "  mean: -25.81476, std: 1.16923, params: {'n_estimators': 500, 'learning_rate': 0.03},\n",
       "  mean: -26.03087, std: 1.12450, params: {'n_estimators': 700, 'learning_rate': 0.03},\n",
       "  mean: -25.80012, std: 1.18723, params: {'n_estimators': 250, 'learning_rate': 0.05},\n",
       "  mean: -25.85307, std: 1.18590, params: {'n_estimators': 300, 'learning_rate': 0.05},\n",
       "  mean: -25.92168, std: 1.16717, params: {'n_estimators': 350, 'learning_rate': 0.05},\n",
       "  mean: -26.11189, std: 1.14477, params: {'n_estimators': 500, 'learning_rate': 0.05},\n",
       "  mean: -26.39360, std: 1.09915, params: {'n_estimators': 700, 'learning_rate': 0.05}],\n",
       " {'learning_rate': 0.01, 'n_estimators': 500},\n",
       " -25.620999111282966)"
      ]
     },
     "execution_count": 26,
     "metadata": {},
     "output_type": "execute_result"
    }
   ],
   "source": [
    "gsearch1.grid_scores_, gsearch1.best_params_, gsearch1.best_score_"
   ]
  },
  {
   "cell_type": "code",
   "execution_count": null,
   "metadata": {
    "collapsed": true
   },
   "outputs": [],
   "source": []
  },
  {
   "cell_type": "code",
   "execution_count": 27,
   "metadata": {
    "collapsed": false
   },
   "outputs": [
    {
     "name": "stderr",
     "output_type": "stream",
     "text": [
      "Will train until cv error hasn't decreased in 50 rounds.\n",
      "Stopping. Best iteration:\n",
      "[259] cv-mean:-35.0053724\tcv-std:7.66403812797\n"
     ]
    },
    {
     "data": {
      "image/png": "[encoded data removed]",
      "text/plain": [
       "<matplotlib.figure.Figure at 0x7f6834dc7550>"
      ]
     },
     "metadata": {},
     "output_type": "display_data"
    }
   ],
   "source": [
    "# xgboost classifier\n",
    "xgb1 = XGBRegressor(learning_rate =0.01, n_estimators=500, max_depth=2, reg_alpha = 100, min_child_weight=10, \n",
    "                    gamma=0.0,colsample_bytree=0.4, subsample=0.8, reg_lambda = 5, max_delta_step=1,\n",
    "                    objective= 'reg:linear',nthread=4, scale_pos_weight=0, seed=45, base_score=0.55 )\n",
    "#Choose the predictors for xgboost and fit the model\n",
    "predictors = var\n",
    "modelfit(xgb1, X_train, predictors)"
   ]
  },
  {
   "cell_type": "code",
   "execution_count": 28,
   "metadata": {
    "collapsed": true
   },
   "outputs": [],
   "source": [
    "feat_imp = pd.Series(xgb1.booster().get_fscore()).sort_values(ascending=False)"
   ]
  },
  {
   "cell_type": "code",
   "execution_count": 29,
   "metadata": {
    "collapsed": false
   },
   "outputs": [
    {
     "data": {
      "text/plain": [
       "f_61_e          102\n",
       "f_61_c           74\n",
       "f_237_Mexico     63\n",
       "f_61_a           57\n",
       "f_237_Canada     54\n",
       "f_61_d           43\n",
       "f_61_b           31\n",
       "f_149            21\n",
       "f_78             21\n",
       "f_188            18\n",
       "f_136            14\n",
       "f_74             14\n",
       "f_76             14\n",
       "f_18             14\n",
       "f_100            13\n",
       "f_144            12\n",
       "f_4              10\n",
       "f_69              9\n",
       "f_111             8\n",
       "f_155             7\n",
       "f_16              7\n",
       "f_173             7\n",
       "f_33              6\n",
       "f_92              6\n",
       "f_225             5\n",
       "f_206             5\n",
       "f_0               5\n",
       "f_48              5\n",
       "f_59              5\n",
       "f_58              5\n",
       "               ... \n",
       "f_24              2\n",
       "f_246             2\n",
       "f_238             2\n",
       "f_236             2\n",
       "f_45              2\n",
       "f_191             2\n",
       "f_108             1\n",
       "f_251             1\n",
       "f_112             1\n",
       "f_118             1\n",
       "f_120             1\n",
       "f_121_A           1\n",
       "f_90              1\n",
       "f_1               1\n",
       "f_73              1\n",
       "f_183             1\n",
       "f_46              1\n",
       "f_22              1\n",
       "f_216             1\n",
       "f_140             1\n",
       "f_204             1\n",
       "f_203             1\n",
       "f_152             1\n",
       "f_154             1\n",
       "f_158             1\n",
       "f_198             1\n",
       "f_6               1\n",
       "f_194             1\n",
       "f_170             1\n",
       "f_226             1\n",
       "dtype: int64"
      ]
     },
     "execution_count": 29,
     "metadata": {},
     "output_type": "execute_result"
    }
   ],
   "source": [
    "feat_imp"
   ]
  },
  {
   "cell_type": "code",
   "execution_count": 30,
   "metadata": {
    "collapsed": true
   },
   "outputs": [],
   "source": [
    "pd.DataFrame(feat_imp).to_csv('/home/pgoyal/Projects/app/feat_imp.csv')"
   ]
  },
  {
   "cell_type": "code",
   "execution_count": 31,
   "metadata": {
    "collapsed": false
   },
   "outputs": [
    {
     "name": "stdout",
     "output_type": "stream",
     "text": [
      "25.4838990105\n"
     ]
    }
   ],
   "source": [
    "y_predS = xgb1.predict(X_train[var])\n",
    "print(mean_squared_error(y_train, y_predS))"
   ]
  },
  {
   "cell_type": "code",
   "execution_count": 32,
   "metadata": {
    "collapsed": false
   },
   "outputs": [
    {
     "data": {
      "text/plain": [
       "['/home/pgoyal/Projects/app/xgb_500_logloss.pkl']"
      ]
     },
     "execution_count": 32,
     "metadata": {},
     "output_type": "execute_result"
    }
   ],
   "source": [
    "# Save the model\n",
    "from sklearn.externals import joblib\n",
    "joblib.dump(xgb1, '/home/pgoyal/Projects/app/xgb_500_logloss.pkl')"
   ]
  },
  {
   "cell_type": "code",
   "execution_count": null,
   "metadata": {
    "collapsed": true
   },
   "outputs": [],
   "source": []
  }
 ],
 "metadata": {
  "anaconda-cloud": {},
  "kernelspec": {
   "display_name": "research",
   "language": "python",
   "name": "python2"
  },
  "language_info": {
   "codemirror_mode": {
    "name": "ipython",
    "version": 2
   },
   "file_extension": ".py",
   "mimetype": "text/x-python",
   "name": "python",
   "nbconvert_exporter": "python",
   "pygments_lexer": "ipython2",
   "version": "2.7.12"
  }
 },
 "nbformat": 4,
 "nbformat_minor": 0
}
